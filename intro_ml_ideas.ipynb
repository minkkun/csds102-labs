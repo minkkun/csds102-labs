{
 "cells": [
  {
   "cell_type": "code",
   "execution_count": 1,
   "metadata": {},
   "outputs": [],
   "source": [
    "# Import libraries\n",
    "import pandas as pd\n",
    "import numpy as np\n",
    "import matplotlib.pyplot as plt\n",
    "from sklearn.model_selection import train_test_split\n",
    "from sklearn.linear_model import LogisticRegression\n",
    "from sklearn.metrics import accuracy_score, confusion_matrix, ConfusionMatrixDisplay"
   ]
  },
  {
   "cell_type": "markdown",
   "metadata": {},
   "source": [
    "# Intro to Machine Learning ideas\n",
    "This exercise will introduce you to some common ML ideas such as: \n",
    "* supervised learning \n",
    "* features and labels\n",
    "* classifier\n",
    "* training set, testing set, predictions validation/evaluation \n",
    "* performance and confusion matrix"
   ]
  },
  {
   "cell_type": "markdown",
   "metadata": {},
   "source": [
    "We will use a dataset called \"irisdata\" for this exercise.\n",
    "\n",
    "This data contains information about the shape of different samples of iris flowers such as: sepal length, sepal width, petal length, petal width; and finally the species that the sample belongs to.\n",
    "\n",
    "## Labels and features\n",
    "\n",
    "In machine learning, we call the species the **label** or **class**, and the other columns **features** or **attributes**.\n",
    "\n",
    "Now, let's open the data and take a look at what are they."
   ]
  },
  {
   "cell_type": "code",
   "execution_count": 3,
   "metadata": {},
   "outputs": [
    {
     "name": "stdout",
     "output_type": "stream",
     "text": [
      "   sepal_length  sepal_width  petal_length  petal_width species\n",
      "0           5.1          3.5           1.4          0.2  setosa\n",
      "1           4.9          3.0           1.4          0.2  setosa\n",
      "2           4.7          3.2           1.3          0.2  setosa\n",
      "3           4.6          3.1           1.5          0.2  setosa\n",
      "4           5.0          3.6           1.4          0.2  setosa\n"
     ]
    }
   ],
   "source": [
    "# Load dataset into a dataframe\n",
    "df = pd.read_csv(\"irisdata.csv\")\n",
    "\n",
    "# Display the first few rows of the dataset\n",
    "print(df.head())"
   ]
  },
  {
   "cell_type": "markdown",
   "metadata": {},
   "source": [
    "#### Goal: The model look at the attributes of one iris and be able to answer correctly which species is the iris. \n",
    "\n",
    "For example, we look at row number 3 above. We expect if we ask them: \"This iris' sepal length is 4.6, sepal width is 3.1, (other attributes and their values), what is its species?\", they can answer: \"It's a setosa iris!\".\n",
    "\n",
    "Notice that we are giving them the **attributes values** in our question.\n",
    "\n",
    "The model's answer or output is a **prediction**. \n",
    "\n",
    "The problem that requires our model to give predictions as a category is called a **classification problem**, and our model is interchangably called a **classifier**."
   ]
  },
  {
   "cell_type": "markdown",
   "metadata": {},
   "source": [
    "## Training \n",
    "\n",
    "Now, to reach our goal, we first have to let our model **learn** the data. \n",
    "\n",
    "The main idea is that we will let the model sees the data and the correct answers as well. Depending on the algorithm used, the model will learn on this data. The data we give them to learn will be the **training set**.\n"
   ]
  },
  {
   "cell_type": "markdown",
   "metadata": {},
   "source": []
  }
 ],
 "metadata": {
  "kernelspec": {
   "display_name": "snowflakes",
   "language": "python",
   "name": "python3"
  },
  "language_info": {
   "codemirror_mode": {
    "name": "ipython",
    "version": 3
   },
   "file_extension": ".py",
   "mimetype": "text/x-python",
   "name": "python",
   "nbconvert_exporter": "python",
   "pygments_lexer": "ipython3",
   "version": "3.11.5"
  },
  "orig_nbformat": 4
 },
 "nbformat": 4,
 "nbformat_minor": 2
}
